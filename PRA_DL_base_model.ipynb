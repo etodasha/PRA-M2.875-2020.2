{
  "nbformat": 4,
  "nbformat_minor": 0,
  "metadata": {
    "accelerator": "GPU",
    "colab": {
      "name": "PRA DL base model.ipynb",
      "provenance": [],
      "collapsed_sections": [],
      "authorship_tag": "ABX9TyM+PT2oCaFRDKYw7RrX6T9x",
      "include_colab_link": true
    },
    "kernelspec": {
      "display_name": "Python 3",
      "name": "python3"
    },
    "language_info": {
      "name": "python"
    }
  },
  "cells": [
    {
      "cell_type": "markdown",
      "metadata": {
        "id": "view-in-github",
        "colab_type": "text"
      },
      "source": [
        "<a href=\"https://colab.research.google.com/github/etodasha/PRA-M2.875-2020.2/blob/main/PRA_DL_base_model.ipynb\" target=\"_parent\"><img src=\"https://colab.research.google.com/assets/colab-badge.svg\" alt=\"Open In Colab\"/></a>"
      ]
    },
    {
      "cell_type": "code",
      "metadata": {
        "colab": {
          "resources": {
            "http://localhost:8080/nbextensions/google.colab/files.js": {
              "data": "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",
              "ok": true,
              "headers": [
                [
                  "content-type",
                  "application/javascript"
                ]
              ],
              "status": 200,
              "status_text": ""
            }
          },
          "base_uri": "https://localhost:8080/",
          "height": 89
        },
        "id": "8nxDDu1HzldK",
        "outputId": "7c8fb09f-d22d-4a5d-d77c-03c2c6969ef5"
      },
      "source": [
        "from google.colab import files\n",
        "\n",
        "uploaded = files.upload()\n",
        "\n",
        "for fn in uploaded.keys():\n",
        "  print('User uploaded file \"{name}\" with length {length} bytes'.format(\n",
        "      name=fn, length=len(uploaded[fn])))\n",
        "  \n",
        "# Then move kaggle.json into the folder where the API expects to find it.\n",
        "!mkdir -p ~/.kaggle/ && mv kaggle.json ~/.kaggle/ && chmod 600 ~/.kaggle/kaggle.json"
      ],
      "execution_count": null,
      "outputs": [
        {
          "output_type": "display_data",
          "data": {
            "text/html": [
              "\n",
              "     <input type=\"file\" id=\"files-93fd1bb1-293f-4df5-b1df-7f4d69175aaa\" name=\"files[]\" multiple disabled\n",
              "        style=\"border:none\" />\n",
              "     <output id=\"result-93fd1bb1-293f-4df5-b1df-7f4d69175aaa\">\n",
              "      Upload widget is only available when the cell has been executed in the\n",
              "      current browser session. Please rerun this cell to enable.\n",
              "      </output>\n",
              "      <script src=\"/nbextensions/google.colab/files.js\"></script> "
            ],
            "text/plain": [
              "<IPython.core.display.HTML object>"
            ]
          },
          "metadata": {
            "tags": []
          }
        },
        {
          "output_type": "stream",
          "text": [
            "Saving kaggle.json to kaggle.json\n",
            "User uploaded file \"kaggle.json\" with length 69 bytes\n"
          ],
          "name": "stdout"
        }
      ]
    },
    {
      "cell_type": "code",
      "metadata": {
        "colab": {
          "base_uri": "https://localhost:8080/"
        },
        "id": "YQ7BnGIX2N_N",
        "outputId": "e0688bc6-08e8-45b0-ada5-b2e47ffb7c31"
      },
      "source": [
        "!kaggle datasets download \"jordidelatorreuoc/kaggle-plant-pathology-2021-modificat\""
      ],
      "execution_count": null,
      "outputs": [
        {
          "output_type": "stream",
          "text": [
            "Downloading kaggle-plant-pathology-2021-modificat.zip to /content\n",
            " 98% 955M/970M [00:05<00:00, 129MB/s]\n",
            "100% 970M/970M [00:05<00:00, 170MB/s]\n"
          ],
          "name": "stdout"
        }
      ]
    },
    {
      "cell_type": "code",
      "metadata": {
        "id": "4lbFKkDt2fZm"
      },
      "source": [
        "!unzip kaggle-plant-pathology-2021-modificat.zip"
      ],
      "execution_count": null,
      "outputs": []
    },
    {
      "cell_type": "code",
      "metadata": {
        "id": "6DFjFKRb2fhv"
      },
      "source": [
        "import pandas as pd\n",
        "import numpy as np \n",
        "import tensorflow as tf\n",
        "import keras \n",
        "import os\n",
        "import matplotlib.pylab as plt\n",
        "import cv2\n",
        "from keras.preprocessing.image import ImageDataGenerator \n",
        "from keras.models import Sequential\n",
        "from keras.layers import Dense, Conv2D , MaxPool2D , Flatten , Dropout, ZeroPadding2D, GlobalAveragePooling2D,BatchNormalization\n",
        "from keras.optimizers import Adam, SGD,RMSprop,Adadelta,Adagrad,Adamax,Nadam,Ftrl\n",
        "from keras.layers.experimental.preprocessing import Resizing\n",
        "from keras.callbacks import *"
      ],
      "execution_count": null,
      "outputs": []
    },
    {
      "cell_type": "markdown",
      "metadata": {
        "id": "_74pvMwbCERU"
      },
      "source": [
        "TRAIN VAL + DATA AUGMENTATION"
      ]
    },
    {
      "cell_type": "code",
      "metadata": {
        "colab": {
          "base_uri": "https://localhost:8080/"
        },
        "id": "pMvmnrJsCCqP",
        "outputId": "3ebd9411-d03d-4128-941e-c178b6097e9e"
      },
      "source": [
        "datagen_train = ImageDataGenerator(\n",
        "    width_shift_range=0.2,\n",
        "    height_shift_range=0.2,\n",
        "    shear_range=0.2,\n",
        "    horizontal_flip=True,\n",
        "    vertical_flip=True,\n",
        "    brightness_range=[0.8,1.2],\n",
        "    zoom_range=[0.5,1.2],\n",
        "    rotation_range=20,\n",
        "    rescale=1./255,\n",
        "    validation_split=0.2) \n",
        "\n",
        "train_generator = datagen_train.flow_from_directory( \n",
        "    'train',\n",
        "    subset='training')\n",
        "\n",
        "validation_generator = datagen_train.flow_from_directory(\n",
        "    'train',\n",
        "    subset='validation'\n",
        "    ,shuffle=False)\n",
        "\n"
      ],
      "execution_count": null,
      "outputs": [
        {
          "output_type": "stream",
          "text": [
            "Found 7800 images belonging to 6 classes.\n",
            "Found 1950 images belonging to 6 classes.\n"
          ],
          "name": "stdout"
        }
      ]
    },
    {
      "cell_type": "markdown",
      "metadata": {
        "id": "U33cMeWNCN3v"
      },
      "source": [
        "BASE CNN MODEL"
      ]
    },
    {
      "cell_type": "code",
      "metadata": {
        "colab": {
          "base_uri": "https://localhost:8080/"
        },
        "id": "77aEoBwWYnRg",
        "outputId": "6a05a329-ee58-4a20-9813-00bc1e7885f0"
      },
      "source": [
        "from google.colab import drive\n",
        "drive.mount('/content/gdrive')"
      ],
      "execution_count": null,
      "outputs": [
        {
          "output_type": "stream",
          "text": [
            "Mounted at /content/gdrive\n"
          ],
          "name": "stdout"
        }
      ]
    },
    {
      "cell_type": "code",
      "metadata": {
        "id": "x_YjCvftCd13"
      },
      "source": [
        "from keras import backend as K\n",
        "\n",
        "def custom_recall(y_true, y_pred):\n",
        "  TP = K.sum(K.round(K.clip(y_true * y_pred, 0, 1)))\n",
        "  Positives = K.sum(K.round(K.clip(y_true, 0, 1)))\n",
        "  recall = TP / (Positives+K.epsilon())\n",
        "  return recall \n",
        "\n",
        "def custom_precision(y_true, y_pred):\n",
        "  TP = K.sum(K.round(K.clip(y_true * y_pred, 0, 1)))\n",
        "  Pred_Positives = K.sum(K.round(K.clip(y_pred, 0, 1)))\n",
        "  precision = TP / (Pred_Positives+K.epsilon())\n",
        "  return precision\n",
        "\n",
        "def custom_f1(y_true, y_pred):    \n",
        "    precision, recall = custom_precision(y_true, y_pred), custom_recall(y_true, y_pred)\n",
        "    return 2*((precision*recall)/(precision+recall+K.epsilon()))"
      ],
      "execution_count": null,
      "outputs": []
    },
    {
      "cell_type": "code",
      "metadata": {
        "id": "qvpp43J4CPue",
        "colab": {
          "base_uri": "https://localhost:8080/"
        },
        "outputId": "4eaace78-4ffb-4ada-9eaa-9d8751d59559"
      },
      "source": [
        "\n",
        "base_model = Sequential()\n",
        "base_model.add(keras.Input(shape=(332, 498, 3)))\n",
        "\n",
        "base_model.add(Resizing(64,64))\n",
        "\n",
        "base_model.add(Conv2D(32, 5, padding=\"same\", strides=(1, 1), activation=\"relu\"))\n",
        "base_model.add(MaxPool2D(pool_size=(2, 2)))\n",
        "\n",
        "base_model.add(Conv2D(64, 5, padding=\"same\", strides=(1, 1), activation=\"relu\"))\n",
        "base_model.add(MaxPool2D(pool_size=(2, 2)))\n",
        "\n",
        "base_model.add(Conv2D(128, 5, padding=\"same\", strides=(1, 1), activation=\"relu\"))\n",
        "base_model.add(MaxPool2D(pool_size=(2, 2)))\n",
        "\n",
        "base_model.add(Flatten())\n",
        "\n",
        "base_model.add(Dense(1024,activation=\"relu\"))\n",
        "base_model.add(Dropout(0.4))\n",
        "\n",
        "base_model.add(Dense(6, activation=\"softmax\"))\n",
        "\n",
        "base_model.summary()"
      ],
      "execution_count": null,
      "outputs": [
        {
          "output_type": "stream",
          "text": [
            "WARNING:tensorflow:Please add `keras.layers.InputLayer` instead of `keras.Input` to Sequential model. `keras.Input` is intended to be used by Functional model.\n",
            "Model: \"sequential\"\n",
            "_________________________________________________________________\n",
            "Layer (type)                 Output Shape              Param #   \n",
            "=================================================================\n",
            "module_wrapper (ModuleWrappe (None, 64, 64, 3)         0         \n",
            "_________________________________________________________________\n",
            "conv2d (Conv2D)              (None, 64, 64, 32)        2432      \n",
            "_________________________________________________________________\n",
            "max_pooling2d (MaxPooling2D) (None, 32, 32, 32)        0         \n",
            "_________________________________________________________________\n",
            "conv2d_1 (Conv2D)            (None, 32, 32, 64)        51264     \n",
            "_________________________________________________________________\n",
            "max_pooling2d_1 (MaxPooling2 (None, 16, 16, 64)        0         \n",
            "_________________________________________________________________\n",
            "conv2d_2 (Conv2D)            (None, 16, 16, 128)       204928    \n",
            "_________________________________________________________________\n",
            "max_pooling2d_2 (MaxPooling2 (None, 8, 8, 128)         0         \n",
            "_________________________________________________________________\n",
            "flatten (Flatten)            (None, 8192)              0         \n",
            "_________________________________________________________________\n",
            "dense (Dense)                (None, 1024)              8389632   \n",
            "_________________________________________________________________\n",
            "dropout (Dropout)            (None, 1024)              0         \n",
            "_________________________________________________________________\n",
            "dense_1 (Dense)              (None, 6)                 6150      \n",
            "=================================================================\n",
            "Total params: 8,654,406\n",
            "Trainable params: 8,654,406\n",
            "Non-trainable params: 0\n",
            "_________________________________________________________________\n"
          ],
          "name": "stdout"
        }
      ]
    },
    {
      "cell_type": "code",
      "metadata": {
        "colab": {
          "base_uri": "https://localhost:8080/"
        },
        "id": "opnmbhlDFXcs",
        "outputId": "c04bacec-b986-4814-d2ae-8f2a6b7b2ec9"
      },
      "source": [
        "base_model.compile(optimizer = Adam(learning_rate=0.0001), \n",
        "              loss = \"categorical_crossentropy\", \n",
        "              metrics = ['accuracy',custom_f1,custom_recall,custom_precision])\n",
        "\n",
        "early_stopping = keras.callbacks.EarlyStopping(monitor='val_custom_f1', mode='max', patience=25, \n",
        "                                               restore_best_weights=True, verbose=2)\n",
        "\n",
        "filepath = \"/content/gdrive/My Drive/epochs:{epoch:03d}-val_f1:{val_custom_f1:.3f}.hdf5\"\n",
        "\n",
        "checkpoint_callback = ModelCheckpoint(filepath= filepath, monitor='val_custom_f1', mode='max',\n",
        "                                                         save_weights_only=True, save_best_only=True)\n",
        "\n",
        "\n",
        "base_history = base_model.fit(train_generator,\n",
        "                              validation_data = validation_generator,\n",
        "                              epochs=200,\n",
        "                              batch_size=64,\n",
        "                              callbacks=[early_stopping,checkpoint_callback],\n",
        "                              verbose=1) "
      ],
      "execution_count": null,
      "outputs": [
        {
          "output_type": "stream",
          "text": [
            "Epoch 1/200\n",
            "244/244 [==============================] - 361s 1s/step - loss: 1.5814 - accuracy: 0.4139 - custom_f1: 0.1311 - custom_recall: 0.0892 - custom_precision: 0.3924 - val_loss: 1.3955 - val_accuracy: 0.4990 - val_custom_f1: 0.2713 - val_custom_recall: 0.1983 - val_custom_precision: 0.4510\n",
            "Epoch 2/200\n",
            "244/244 [==============================] - 344s 1s/step - loss: 1.3980 - accuracy: 0.4939 - custom_f1: 0.3437 - custom_recall: 0.2430 - custom_precision: 0.6301 - val_loss: 1.3431 - val_accuracy: 0.5185 - val_custom_f1: 0.3424 - val_custom_recall: 0.2587 - val_custom_precision: 0.5448\n",
            "Epoch 3/200\n",
            "244/244 [==============================] - 340s 1s/step - loss: 1.3749 - accuracy: 0.4925 - custom_f1: 0.3516 - custom_recall: 0.2535 - custom_precision: 0.6163 - val_loss: 1.3429 - val_accuracy: 0.5149 - val_custom_f1: 0.3434 - val_custom_recall: 0.2551 - val_custom_precision: 0.5372\n",
            "Epoch 4/200\n",
            "244/244 [==============================] - 341s 1s/step - loss: 1.3453 - accuracy: 0.4991 - custom_f1: 0.3774 - custom_recall: 0.2739 - custom_precision: 0.6401 - val_loss: 1.3086 - val_accuracy: 0.5092 - val_custom_f1: 0.3993 - val_custom_recall: 0.3279 - val_custom_precision: 0.5409\n",
            "Epoch 5/200\n",
            "244/244 [==============================] - 340s 1s/step - loss: 1.3284 - accuracy: 0.5112 - custom_f1: 0.3922 - custom_recall: 0.2864 - custom_precision: 0.6539 - val_loss: 1.2804 - val_accuracy: 0.5405 - val_custom_f1: 0.4293 - val_custom_recall: 0.3596 - val_custom_precision: 0.5550\n",
            "Epoch 6/200\n",
            "244/244 [==============================] - 337s 1s/step - loss: 1.3031 - accuracy: 0.5206 - custom_f1: 0.4191 - custom_recall: 0.3154 - custom_precision: 0.6481 - val_loss: 1.3070 - val_accuracy: 0.5282 - val_custom_f1: 0.4193 - val_custom_recall: 0.3284 - val_custom_precision: 0.5932\n",
            "Epoch 7/200\n",
            "244/244 [==============================] - 339s 1s/step - loss: 1.2809 - accuracy: 0.5298 - custom_f1: 0.4397 - custom_recall: 0.3290 - custom_precision: 0.6882 - val_loss: 1.2292 - val_accuracy: 0.5533 - val_custom_f1: 0.4410 - val_custom_recall: 0.3525 - val_custom_precision: 0.6067\n",
            "Epoch 8/200\n",
            "244/244 [==============================] - 338s 1s/step - loss: 1.2479 - accuracy: 0.5463 - custom_f1: 0.4513 - custom_recall: 0.3433 - custom_precision: 0.6820 - val_loss: 1.1922 - val_accuracy: 0.5708 - val_custom_f1: 0.4499 - val_custom_recall: 0.3658 - val_custom_precision: 0.6111\n",
            "Epoch 9/200\n",
            "244/244 [==============================] - 341s 1s/step - loss: 1.2021 - accuracy: 0.5669 - custom_f1: 0.4977 - custom_recall: 0.3883 - custom_precision: 0.7121 - val_loss: 1.2346 - val_accuracy: 0.5554 - val_custom_f1: 0.4573 - val_custom_recall: 0.3899 - val_custom_precision: 0.5819\n",
            "Epoch 10/200\n",
            "244/244 [==============================] - 340s 1s/step - loss: 1.1763 - accuracy: 0.5823 - custom_f1: 0.5113 - custom_recall: 0.4050 - custom_precision: 0.7050 - val_loss: 1.2021 - val_accuracy: 0.5610 - val_custom_f1: 0.5017 - val_custom_recall: 0.4298 - val_custom_precision: 0.6119\n",
            "Epoch 11/200\n",
            "244/244 [==============================] - 338s 1s/step - loss: 1.1561 - accuracy: 0.5894 - custom_f1: 0.5213 - custom_recall: 0.4149 - custom_precision: 0.7163 - val_loss: 1.1372 - val_accuracy: 0.5903 - val_custom_f1: 0.4774 - val_custom_recall: 0.3740 - val_custom_precision: 0.6798\n",
            "Epoch 12/200\n",
            "244/244 [==============================] - 338s 1s/step - loss: 1.1527 - accuracy: 0.5927 - custom_f1: 0.5235 - custom_recall: 0.4165 - custom_precision: 0.7250 - val_loss: 1.1362 - val_accuracy: 0.5892 - val_custom_f1: 0.5107 - val_custom_recall: 0.4488 - val_custom_precision: 0.6140\n",
            "Epoch 13/200\n",
            "244/244 [==============================] - 343s 1s/step - loss: 1.1355 - accuracy: 0.5892 - custom_f1: 0.5270 - custom_recall: 0.4223 - custom_precision: 0.7209 - val_loss: 1.0885 - val_accuracy: 0.6133 - val_custom_f1: 0.5641 - val_custom_recall: 0.5134 - val_custom_precision: 0.6353\n",
            "Epoch 14/200\n",
            "244/244 [==============================] - 337s 1s/step - loss: 1.0986 - accuracy: 0.6058 - custom_f1: 0.5573 - custom_recall: 0.4530 - custom_precision: 0.7406 - val_loss: 1.0786 - val_accuracy: 0.6118 - val_custom_f1: 0.5428 - val_custom_recall: 0.4616 - val_custom_precision: 0.6677\n",
            "Epoch 15/200\n",
            "244/244 [==============================] - 334s 1s/step - loss: 1.0772 - accuracy: 0.6098 - custom_f1: 0.5669 - custom_recall: 0.4619 - custom_precision: 0.7439 - val_loss: 1.0659 - val_accuracy: 0.6108 - val_custom_f1: 0.5400 - val_custom_recall: 0.4693 - val_custom_precision: 0.6562\n",
            "Epoch 16/200\n",
            "244/244 [==============================] - 335s 1s/step - loss: 1.0736 - accuracy: 0.6059 - custom_f1: 0.5606 - custom_recall: 0.4586 - custom_precision: 0.7321 - val_loss: 1.0534 - val_accuracy: 0.6190 - val_custom_f1: 0.5664 - val_custom_recall: 0.5108 - val_custom_precision: 0.6499\n",
            "Epoch 17/200\n",
            "244/244 [==============================] - 336s 1s/step - loss: 1.0365 - accuracy: 0.6266 - custom_f1: 0.5904 - custom_recall: 0.4901 - custom_precision: 0.7530 - val_loss: 1.0491 - val_accuracy: 0.6246 - val_custom_f1: 0.5526 - val_custom_recall: 0.4678 - val_custom_precision: 0.6848\n",
            "Epoch 18/200\n",
            "244/244 [==============================] - 336s 1s/step - loss: 1.0293 - accuracy: 0.6321 - custom_f1: 0.5936 - custom_recall: 0.4918 - custom_precision: 0.7574 - val_loss: 1.0602 - val_accuracy: 0.6164 - val_custom_f1: 0.5726 - val_custom_recall: 0.5246 - val_custom_precision: 0.6427\n",
            "Epoch 19/200\n",
            "244/244 [==============================] - 336s 1s/step - loss: 1.0115 - accuracy: 0.6365 - custom_f1: 0.5982 - custom_recall: 0.5006 - custom_precision: 0.7538 - val_loss: 1.0909 - val_accuracy: 0.6144 - val_custom_f1: 0.5660 - val_custom_recall: 0.5056 - val_custom_precision: 0.6499\n",
            "Epoch 20/200\n",
            "244/244 [==============================] - 337s 1s/step - loss: 1.0066 - accuracy: 0.6468 - custom_f1: 0.6043 - custom_recall: 0.5070 - custom_precision: 0.7565 - val_loss: 1.0099 - val_accuracy: 0.6472 - val_custom_f1: 0.5951 - val_custom_recall: 0.5421 - val_custom_precision: 0.6719\n",
            "Epoch 21/200\n",
            "244/244 [==============================] - 337s 1s/step - loss: 0.9913 - accuracy: 0.6526 - custom_f1: 0.6121 - custom_recall: 0.5132 - custom_precision: 0.7665 - val_loss: 1.0090 - val_accuracy: 0.6251 - val_custom_f1: 0.5711 - val_custom_recall: 0.4822 - val_custom_precision: 0.7133\n",
            "Epoch 22/200\n",
            "244/244 [==============================] - 338s 1s/step - loss: 0.9556 - accuracy: 0.6620 - custom_f1: 0.6330 - custom_recall: 0.5374 - custom_precision: 0.7795 - val_loss: 0.9821 - val_accuracy: 0.6395 - val_custom_f1: 0.6053 - val_custom_recall: 0.5344 - val_custom_precision: 0.7060\n",
            "Epoch 23/200\n",
            "244/244 [==============================] - 338s 1s/step - loss: 0.9807 - accuracy: 0.6528 - custom_f1: 0.6235 - custom_recall: 0.5289 - custom_precision: 0.7692 - val_loss: 0.9722 - val_accuracy: 0.6574 - val_custom_f1: 0.6109 - val_custom_recall: 0.5259 - val_custom_precision: 0.7391\n",
            "Epoch 24/200\n",
            "244/244 [==============================] - 336s 1s/step - loss: 0.9205 - accuracy: 0.6743 - custom_f1: 0.6482 - custom_recall: 0.5602 - custom_precision: 0.7759 - val_loss: 0.9369 - val_accuracy: 0.6656 - val_custom_f1: 0.6094 - val_custom_recall: 0.5364 - val_custom_precision: 0.7184\n",
            "Epoch 25/200\n",
            "244/244 [==============================] - 339s 1s/step - loss: 0.9260 - accuracy: 0.6676 - custom_f1: 0.6434 - custom_recall: 0.5525 - custom_precision: 0.7775 - val_loss: 0.9517 - val_accuracy: 0.6646 - val_custom_f1: 0.6108 - val_custom_recall: 0.5442 - val_custom_precision: 0.7103\n",
            "Epoch 26/200\n",
            "244/244 [==============================] - 337s 1s/step - loss: 0.8912 - accuracy: 0.6838 - custom_f1: 0.6565 - custom_recall: 0.5650 - custom_precision: 0.7897 - val_loss: 0.9425 - val_accuracy: 0.6559 - val_custom_f1: 0.6162 - val_custom_recall: 0.5432 - val_custom_precision: 0.7254\n",
            "Epoch 27/200\n",
            "244/244 [==============================] - 335s 1s/step - loss: 0.8904 - accuracy: 0.6827 - custom_f1: 0.6562 - custom_recall: 0.5697 - custom_precision: 0.7809 - val_loss: 0.9032 - val_accuracy: 0.6795 - val_custom_f1: 0.6307 - val_custom_recall: 0.5661 - val_custom_precision: 0.7208\n",
            "Epoch 28/200\n",
            "244/244 [==============================] - 341s 1s/step - loss: 0.9235 - accuracy: 0.6666 - custom_f1: 0.6432 - custom_recall: 0.5522 - custom_precision: 0.7765 - val_loss: 0.9299 - val_accuracy: 0.6697 - val_custom_f1: 0.6079 - val_custom_recall: 0.5319 - val_custom_precision: 0.7265\n",
            "Epoch 29/200\n",
            "244/244 [==============================] - 336s 1s/step - loss: 0.9096 - accuracy: 0.6779 - custom_f1: 0.6451 - custom_recall: 0.5557 - custom_precision: 0.7767 - val_loss: 0.8948 - val_accuracy: 0.6692 - val_custom_f1: 0.6399 - val_custom_recall: 0.5848 - val_custom_precision: 0.7152\n",
            "Epoch 30/200\n",
            "244/244 [==============================] - 340s 1s/step - loss: 0.8552 - accuracy: 0.6874 - custom_f1: 0.6702 - custom_recall: 0.5848 - custom_precision: 0.7898 - val_loss: 0.9400 - val_accuracy: 0.6621 - val_custom_f1: 0.6200 - val_custom_recall: 0.5653 - val_custom_precision: 0.6942\n",
            "Epoch 31/200\n",
            "244/244 [==============================] - 338s 1s/step - loss: 0.8624 - accuracy: 0.6857 - custom_f1: 0.6739 - custom_recall: 0.5861 - custom_precision: 0.7972 - val_loss: 0.9082 - val_accuracy: 0.6744 - val_custom_f1: 0.6368 - val_custom_recall: 0.5904 - val_custom_precision: 0.7017\n",
            "Epoch 32/200\n",
            "244/244 [==============================] - 338s 1s/step - loss: 0.8671 - accuracy: 0.6881 - custom_f1: 0.6633 - custom_recall: 0.5760 - custom_precision: 0.7884 - val_loss: 0.8735 - val_accuracy: 0.6933 - val_custom_f1: 0.6619 - val_custom_recall: 0.6184 - val_custom_precision: 0.7210\n",
            "Epoch 33/200\n",
            "244/244 [==============================] - 337s 1s/step - loss: 0.8506 - accuracy: 0.6957 - custom_f1: 0.6716 - custom_recall: 0.5859 - custom_precision: 0.7929 - val_loss: 0.8516 - val_accuracy: 0.7108 - val_custom_f1: 0.6607 - val_custom_recall: 0.5798 - val_custom_precision: 0.7793\n",
            "Epoch 34/200\n",
            "244/244 [==============================] - 339s 1s/step - loss: 0.8295 - accuracy: 0.6993 - custom_f1: 0.6845 - custom_recall: 0.6038 - custom_precision: 0.7955 - val_loss: 0.8683 - val_accuracy: 0.6877 - val_custom_f1: 0.6454 - val_custom_recall: 0.5798 - val_custom_precision: 0.7383\n",
            "Epoch 35/200\n",
            "244/244 [==============================] - 339s 1s/step - loss: 0.8204 - accuracy: 0.7094 - custom_f1: 0.6851 - custom_recall: 0.5993 - custom_precision: 0.8052 - val_loss: 0.8192 - val_accuracy: 0.7123 - val_custom_f1: 0.6734 - val_custom_recall: 0.6211 - val_custom_precision: 0.7483\n",
            "Epoch 36/200\n",
            "244/244 [==============================] - 339s 1s/step - loss: 0.7902 - accuracy: 0.7204 - custom_f1: 0.6979 - custom_recall: 0.6182 - custom_precision: 0.8052 - val_loss: 0.8167 - val_accuracy: 0.6995 - val_custom_f1: 0.6706 - val_custom_recall: 0.6216 - val_custom_precision: 0.7400\n",
            "Epoch 37/200\n",
            "244/244 [==============================] - 338s 1s/step - loss: 0.7842 - accuracy: 0.7236 - custom_f1: 0.7053 - custom_recall: 0.6259 - custom_precision: 0.8142 - val_loss: 0.8700 - val_accuracy: 0.6938 - val_custom_f1: 0.6629 - val_custom_recall: 0.6181 - val_custom_precision: 0.7251\n",
            "Epoch 38/200\n",
            "244/244 [==============================] - 337s 1s/step - loss: 0.7712 - accuracy: 0.7228 - custom_f1: 0.7063 - custom_recall: 0.6254 - custom_precision: 0.8163 - val_loss: 0.8127 - val_accuracy: 0.7190 - val_custom_f1: 0.6795 - val_custom_recall: 0.6145 - val_custom_precision: 0.7668\n",
            "Epoch 39/200\n",
            "244/244 [==============================] - 338s 1s/step - loss: 0.7833 - accuracy: 0.7181 - custom_f1: 0.6989 - custom_recall: 0.6155 - custom_precision: 0.8138 - val_loss: 0.8432 - val_accuracy: 0.6995 - val_custom_f1: 0.6812 - val_custom_recall: 0.6325 - val_custom_precision: 0.7465\n",
            "Epoch 40/200\n",
            "244/244 [==============================] - 341s 1s/step - loss: 0.7842 - accuracy: 0.7180 - custom_f1: 0.7007 - custom_recall: 0.6209 - custom_precision: 0.8089 - val_loss: 0.8192 - val_accuracy: 0.7026 - val_custom_f1: 0.6789 - val_custom_recall: 0.6326 - val_custom_precision: 0.7415\n",
            "Epoch 41/200\n",
            "244/244 [==============================] - 337s 1s/step - loss: 0.7727 - accuracy: 0.7321 - custom_f1: 0.7067 - custom_recall: 0.6286 - custom_precision: 0.8114 - val_loss: 0.8019 - val_accuracy: 0.7097 - val_custom_f1: 0.6729 - val_custom_recall: 0.6003 - val_custom_precision: 0.7735\n",
            "Epoch 42/200\n",
            "244/244 [==============================] - 337s 1s/step - loss: 0.7424 - accuracy: 0.7401 - custom_f1: 0.7185 - custom_recall: 0.6416 - custom_precision: 0.8211 - val_loss: 0.7838 - val_accuracy: 0.7385 - val_custom_f1: 0.6954 - val_custom_recall: 0.6294 - val_custom_precision: 0.7872\n",
            "Epoch 43/200\n",
            "244/244 [==============================] - 338s 1s/step - loss: 0.7458 - accuracy: 0.7345 - custom_f1: 0.7197 - custom_recall: 0.6469 - custom_precision: 0.8154 - val_loss: 0.7535 - val_accuracy: 0.7354 - val_custom_f1: 0.7163 - val_custom_recall: 0.6668 - val_custom_precision: 0.7813\n",
            "Epoch 44/200\n",
            "244/244 [==============================] - 340s 1s/step - loss: 0.7248 - accuracy: 0.7481 - custom_f1: 0.7305 - custom_recall: 0.6595 - custom_precision: 0.8240 - val_loss: 0.7767 - val_accuracy: 0.7318 - val_custom_f1: 0.6984 - val_custom_recall: 0.6452 - val_custom_precision: 0.7724\n",
            "Epoch 45/200\n",
            "244/244 [==============================] - 337s 1s/step - loss: 0.7169 - accuracy: 0.7515 - custom_f1: 0.7311 - custom_recall: 0.6610 - custom_precision: 0.8220 - val_loss: 0.7898 - val_accuracy: 0.7128 - val_custom_f1: 0.6919 - val_custom_recall: 0.6270 - val_custom_precision: 0.7814\n",
            "Epoch 46/200\n",
            "244/244 [==============================] - 334s 1s/step - loss: 0.7126 - accuracy: 0.7526 - custom_f1: 0.7357 - custom_recall: 0.6613 - custom_precision: 0.8339 - val_loss: 0.7979 - val_accuracy: 0.7108 - val_custom_f1: 0.6902 - val_custom_recall: 0.6438 - val_custom_precision: 0.7538\n",
            "Epoch 47/200\n",
            "244/244 [==============================] - 339s 1s/step - loss: 0.7072 - accuracy: 0.7479 - custom_f1: 0.7360 - custom_recall: 0.6627 - custom_precision: 0.8312 - val_loss: 0.7453 - val_accuracy: 0.7344 - val_custom_f1: 0.7188 - val_custom_recall: 0.6683 - val_custom_precision: 0.7839\n",
            "Epoch 48/200\n",
            "244/244 [==============================] - 335s 1s/step - loss: 0.7070 - accuracy: 0.7460 - custom_f1: 0.7356 - custom_recall: 0.6645 - custom_precision: 0.8269 - val_loss: 0.7543 - val_accuracy: 0.7292 - val_custom_f1: 0.7181 - val_custom_recall: 0.6665 - val_custom_precision: 0.7865\n",
            "Epoch 49/200\n",
            "244/244 [==============================] - 337s 1s/step - loss: 0.6804 - accuracy: 0.7589 - custom_f1: 0.7467 - custom_recall: 0.6833 - custom_precision: 0.8262 - val_loss: 0.7327 - val_accuracy: 0.7528 - val_custom_f1: 0.7221 - val_custom_recall: 0.6670 - val_custom_precision: 0.7953\n",
            "Epoch 50/200\n",
            "244/244 [==============================] - 335s 1s/step - loss: 0.6929 - accuracy: 0.7500 - custom_f1: 0.7395 - custom_recall: 0.6724 - custom_precision: 0.8252 - val_loss: 0.6993 - val_accuracy: 0.7564 - val_custom_f1: 0.7369 - val_custom_recall: 0.6926 - val_custom_precision: 0.7931\n",
            "Epoch 51/200\n",
            "244/244 [==============================] - 339s 1s/step - loss: 0.6392 - accuracy: 0.7738 - custom_f1: 0.7637 - custom_recall: 0.6991 - custom_precision: 0.8444 - val_loss: 0.7046 - val_accuracy: 0.7523 - val_custom_f1: 0.7315 - val_custom_recall: 0.6787 - val_custom_precision: 0.7999\n",
            "Epoch 52/200\n",
            "244/244 [==============================] - 336s 1s/step - loss: 0.6631 - accuracy: 0.7686 - custom_f1: 0.7570 - custom_recall: 0.6942 - custom_precision: 0.8354 - val_loss: 0.7450 - val_accuracy: 0.7426 - val_custom_f1: 0.7258 - val_custom_recall: 0.6807 - val_custom_precision: 0.7850\n",
            "Epoch 53/200\n",
            "244/244 [==============================] - 336s 1s/step - loss: 0.6588 - accuracy: 0.7704 - custom_f1: 0.7622 - custom_recall: 0.6998 - custom_precision: 0.8393 - val_loss: 0.7812 - val_accuracy: 0.7251 - val_custom_f1: 0.7132 - val_custom_recall: 0.6785 - val_custom_precision: 0.7575\n",
            "Epoch 54/200\n",
            "244/244 [==============================] - 335s 1s/step - loss: 0.6449 - accuracy: 0.7713 - custom_f1: 0.7633 - custom_recall: 0.7017 - custom_precision: 0.8407 - val_loss: 0.7093 - val_accuracy: 0.7569 - val_custom_f1: 0.7450 - val_custom_recall: 0.6992 - val_custom_precision: 0.8039\n",
            "Epoch 55/200\n",
            "244/244 [==============================] - 335s 1s/step - loss: 0.6593 - accuracy: 0.7660 - custom_f1: 0.7605 - custom_recall: 0.7003 - custom_precision: 0.8355 - val_loss: 0.7007 - val_accuracy: 0.7554 - val_custom_f1: 0.7339 - val_custom_recall: 0.6834 - val_custom_precision: 0.7998\n",
            "Epoch 56/200\n",
            "244/244 [==============================] - 336s 1s/step - loss: 0.6365 - accuracy: 0.7703 - custom_f1: 0.7648 - custom_recall: 0.7032 - custom_precision: 0.8428 - val_loss: 0.7138 - val_accuracy: 0.7518 - val_custom_f1: 0.7369 - val_custom_recall: 0.6846 - val_custom_precision: 0.8040\n",
            "Epoch 57/200\n",
            "244/244 [==============================] - 338s 1s/step - loss: 0.6258 - accuracy: 0.7750 - custom_f1: 0.7691 - custom_recall: 0.7123 - custom_precision: 0.8385 - val_loss: 0.6686 - val_accuracy: 0.7585 - val_custom_f1: 0.7466 - val_custom_recall: 0.6978 - val_custom_precision: 0.8079\n",
            "Epoch 58/200\n",
            "244/244 [==============================] - 339s 1s/step - loss: 0.6132 - accuracy: 0.7786 - custom_f1: 0.7724 - custom_recall: 0.7171 - custom_precision: 0.8396 - val_loss: 0.6873 - val_accuracy: 0.7590 - val_custom_f1: 0.7434 - val_custom_recall: 0.6863 - val_custom_precision: 0.8164\n",
            "Epoch 59/200\n",
            "244/244 [==============================] - 338s 1s/step - loss: 0.6318 - accuracy: 0.7748 - custom_f1: 0.7660 - custom_recall: 0.7069 - custom_precision: 0.8389 - val_loss: 0.6829 - val_accuracy: 0.7667 - val_custom_f1: 0.7549 - val_custom_recall: 0.7182 - val_custom_precision: 0.8000\n",
            "Epoch 60/200\n",
            "244/244 [==============================] - 336s 1s/step - loss: 0.6418 - accuracy: 0.7773 - custom_f1: 0.7686 - custom_recall: 0.7087 - custom_precision: 0.8423 - val_loss: 0.6753 - val_accuracy: 0.7646 - val_custom_f1: 0.7481 - val_custom_recall: 0.6853 - val_custom_precision: 0.8278\n",
            "Epoch 61/200\n",
            "244/244 [==============================] - 340s 1s/step - loss: 0.6071 - accuracy: 0.7874 - custom_f1: 0.7772 - custom_recall: 0.7230 - custom_precision: 0.8430 - val_loss: 0.6604 - val_accuracy: 0.7713 - val_custom_f1: 0.7639 - val_custom_recall: 0.7171 - val_custom_precision: 0.8224\n",
            "Epoch 62/200\n",
            "244/244 [==============================] - 333s 1s/step - loss: 0.6073 - accuracy: 0.7887 - custom_f1: 0.7790 - custom_recall: 0.7232 - custom_precision: 0.8469 - val_loss: 0.6820 - val_accuracy: 0.7605 - val_custom_f1: 0.7522 - val_custom_recall: 0.7043 - val_custom_precision: 0.8112\n",
            "Epoch 63/200\n",
            "244/244 [==============================] - 335s 1s/step - loss: 0.6124 - accuracy: 0.7864 - custom_f1: 0.7802 - custom_recall: 0.7301 - custom_precision: 0.8396 - val_loss: 0.6834 - val_accuracy: 0.7656 - val_custom_f1: 0.7529 - val_custom_recall: 0.7191 - val_custom_precision: 0.7948\n",
            "Epoch 64/200\n",
            "244/244 [==============================] - 333s 1s/step - loss: 0.5873 - accuracy: 0.8002 - custom_f1: 0.7893 - custom_recall: 0.7348 - custom_precision: 0.8550 - val_loss: 0.6391 - val_accuracy: 0.7810 - val_custom_f1: 0.7632 - val_custom_recall: 0.7155 - val_custom_precision: 0.8226\n",
            "Epoch 65/200\n",
            "244/244 [==============================] - 332s 1s/step - loss: 0.6020 - accuracy: 0.7827 - custom_f1: 0.7769 - custom_recall: 0.7251 - custom_precision: 0.8399 - val_loss: 0.6762 - val_accuracy: 0.7697 - val_custom_f1: 0.7592 - val_custom_recall: 0.7234 - val_custom_precision: 0.8029\n",
            "Epoch 66/200\n",
            "244/244 [==============================] - ETA: 0s - loss: 0.5964 - accuracy: 0.7888 - custom_f1: 0.7846 - custom_recall: 0.7316 - custom_precision: 0.8487"
          ],
          "name": "stdout"
        }
      ]
    },
    {
      "cell_type": "code",
      "metadata": {
        "id": "R2OLwFfrG2Qf"
      },
      "source": [
        "# base 0.759"
      ],
      "execution_count": null,
      "outputs": []
    }
  ]
}